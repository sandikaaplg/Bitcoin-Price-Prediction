{
 "cells": [
  {
   "cell_type": "markdown",
   "metadata": {},
   "source": [
    "# Import Library"
   ]
  },
  {
   "cell_type": "code",
   "execution_count": 38,
   "metadata": {},
   "outputs": [],
   "source": [
    "import pandas as pd\n",
    "import numpy as np\n",
    "import matplotlib.pyplot as plt\n",
    "import datetime, pytz\n",
    "from sklearn import linear_model\n",
    "from sklearn.linear_model import LinearRegression\n",
    "import matplotlib.pyplot as plt\n",
    "from sklearn.model_selection import train_test_split\n",
    "from sklearn.metrics import r2_score\n",
    "from sklearn.preprocessing import StandardScaler\n",
    "from sklearn.metrics import mean_absolute_error, mean_squared_error, r2_score\n",
    "from sklearn.preprocessing import PolynomialFeatures\n",
    "from scipy import stats\n",
    "from sklearn.preprocessing import MinMaxScaler\n",
    "from sklearn.preprocessing import OrdinalEncoder"
   ]
  },
  {
   "cell_type": "markdown",
   "metadata": {},
   "source": [
    "# Data Loading"
   ]
  },
  {
   "cell_type": "code",
   "execution_count": 39,
   "metadata": {},
   "outputs": [],
   "source": [
    "df= pd.read_csv(r'C:\\Users\\LENOVO\\Desktop\\DATA SCIENCE\\Data_Hacktiv\\second question\\Binance_BTCUSDT_d.csv')"
   ]
  },
  {
   "cell_type": "code",
   "execution_count": 40,
   "metadata": {},
   "outputs": [
    {
     "data": {
      "text/html": [
       "<div>\n",
       "<style scoped>\n",
       "    .dataframe tbody tr th:only-of-type {\n",
       "        vertical-align: middle;\n",
       "    }\n",
       "\n",
       "    .dataframe tbody tr th {\n",
       "        vertical-align: top;\n",
       "    }\n",
       "\n",
       "    .dataframe thead th {\n",
       "        text-align: right;\n",
       "    }\n",
       "</style>\n",
       "<table border=\"1\" class=\"dataframe\">\n",
       "  <thead>\n",
       "    <tr style=\"text-align: right;\">\n",
       "      <th></th>\n",
       "      <th>unix</th>\n",
       "      <th>date</th>\n",
       "      <th>symbol</th>\n",
       "      <th>open</th>\n",
       "      <th>high</th>\n",
       "      <th>low</th>\n",
       "      <th>close</th>\n",
       "      <th>Volume BTC</th>\n",
       "      <th>Volume USDT</th>\n",
       "      <th>tradecount</th>\n",
       "    </tr>\n",
       "  </thead>\n",
       "  <tbody>\n",
       "    <tr>\n",
       "      <th>0</th>\n",
       "      <td>1.657066e+12</td>\n",
       "      <td>2022-07-06 00:00:00</td>\n",
       "      <td>BTC/USDT</td>\n",
       "      <td>20175.84</td>\n",
       "      <td>20265.28</td>\n",
       "      <td>20174.46</td>\n",
       "      <td>20213.78</td>\n",
       "      <td>809.73146</td>\n",
       "      <td>1.637333e+07</td>\n",
       "      <td>12394.0</td>\n",
       "    </tr>\n",
       "    <tr>\n",
       "      <th>1</th>\n",
       "      <td>1.656979e+12</td>\n",
       "      <td>2022-07-05 00:00:00</td>\n",
       "      <td>BTC/USDT</td>\n",
       "      <td>20236.71</td>\n",
       "      <td>20750.00</td>\n",
       "      <td>19304.40</td>\n",
       "      <td>20175.83</td>\n",
       "      <td>96041.13756</td>\n",
       "      <td>1.919950e+09</td>\n",
       "      <td>1612273.0</td>\n",
       "    </tr>\n",
       "    <tr>\n",
       "      <th>2</th>\n",
       "      <td>1.656893e+12</td>\n",
       "      <td>2022-07-04 00:00:00</td>\n",
       "      <td>BTC/USDT</td>\n",
       "      <td>19315.83</td>\n",
       "      <td>20354.01</td>\n",
       "      <td>19055.31</td>\n",
       "      <td>20236.71</td>\n",
       "      <td>74814.04601</td>\n",
       "      <td>1.470988e+09</td>\n",
       "      <td>1282843.0</td>\n",
       "    </tr>\n",
       "    <tr>\n",
       "      <th>3</th>\n",
       "      <td>1.656806e+12</td>\n",
       "      <td>2022-07-03 00:00:00</td>\n",
       "      <td>BTC/USDT</td>\n",
       "      <td>19252.82</td>\n",
       "      <td>19647.63</td>\n",
       "      <td>18781.00</td>\n",
       "      <td>19315.83</td>\n",
       "      <td>51087.46631</td>\n",
       "      <td>9.802559e+08</td>\n",
       "      <td>880786.0</td>\n",
       "    </tr>\n",
       "    <tr>\n",
       "      <th>4</th>\n",
       "      <td>1.656720e+12</td>\n",
       "      <td>2022-07-02 00:00:00</td>\n",
       "      <td>BTC/USDT</td>\n",
       "      <td>19279.80</td>\n",
       "      <td>19467.39</td>\n",
       "      <td>18977.01</td>\n",
       "      <td>19252.81</td>\n",
       "      <td>46180.30210</td>\n",
       "      <td>8.884155e+08</td>\n",
       "      <td>833508.0</td>\n",
       "    </tr>\n",
       "  </tbody>\n",
       "</table>\n",
       "</div>"
      ],
      "text/plain": [
       "           unix                 date    symbol      open      high       low  \\\n",
       "0  1.657066e+12  2022-07-06 00:00:00  BTC/USDT  20175.84  20265.28  20174.46   \n",
       "1  1.656979e+12  2022-07-05 00:00:00  BTC/USDT  20236.71  20750.00  19304.40   \n",
       "2  1.656893e+12  2022-07-04 00:00:00  BTC/USDT  19315.83  20354.01  19055.31   \n",
       "3  1.656806e+12  2022-07-03 00:00:00  BTC/USDT  19252.82  19647.63  18781.00   \n",
       "4  1.656720e+12  2022-07-02 00:00:00  BTC/USDT  19279.80  19467.39  18977.01   \n",
       "\n",
       "      close   Volume BTC   Volume USDT  tradecount  \n",
       "0  20213.78    809.73146  1.637333e+07     12394.0  \n",
       "1  20175.83  96041.13756  1.919950e+09   1612273.0  \n",
       "2  20236.71  74814.04601  1.470988e+09   1282843.0  \n",
       "3  19315.83  51087.46631  9.802559e+08    880786.0  \n",
       "4  19252.81  46180.30210  8.884155e+08    833508.0  "
      ]
     },
     "execution_count": 40,
     "metadata": {},
     "output_type": "execute_result"
    }
   ],
   "source": [
    "df.head()"
   ]
  },
  {
   "cell_type": "code",
   "execution_count": 41,
   "metadata": {},
   "outputs": [
    {
     "name": "stdout",
     "output_type": "stream",
     "text": [
      "<class 'pandas.core.frame.DataFrame'>\n",
      "RangeIndex: 1786 entries, 0 to 1785\n",
      "Data columns (total 10 columns):\n",
      " #   Column       Non-Null Count  Dtype  \n",
      "---  ------       --------------  -----  \n",
      " 0   unix         1786 non-null   float64\n",
      " 1   date         1786 non-null   object \n",
      " 2   symbol       1786 non-null   object \n",
      " 3   open         1786 non-null   float64\n",
      " 4   high         1786 non-null   float64\n",
      " 5   low          1786 non-null   float64\n",
      " 6   close        1786 non-null   float64\n",
      " 7   Volume BTC   1786 non-null   float64\n",
      " 8   Volume USDT  1786 non-null   float64\n",
      " 9   tradecount   1662 non-null   float64\n",
      "dtypes: float64(8), object(2)\n",
      "memory usage: 139.7+ KB\n"
     ]
    }
   ],
   "source": [
    "df.info()"
   ]
  },
  {
   "cell_type": "code",
   "execution_count": 42,
   "metadata": {},
   "outputs": [
    {
     "data": {
      "text/plain": [
       "unix             0\n",
       "date             0\n",
       "symbol           0\n",
       "open             0\n",
       "high             0\n",
       "low              0\n",
       "close            0\n",
       "Volume BTC       0\n",
       "Volume USDT      0\n",
       "tradecount     124\n",
       "dtype: int64"
      ]
     },
     "execution_count": 42,
     "metadata": {},
     "output_type": "execute_result"
    }
   ],
   "source": [
    "df.isnull().sum()"
   ]
  },
  {
   "cell_type": "code",
   "execution_count": 43,
   "metadata": {},
   "outputs": [],
   "source": [
    "df.dropna(inplace=True)"
   ]
  },
  {
   "cell_type": "code",
   "execution_count": 44,
   "metadata": {},
   "outputs": [
    {
     "data": {
      "text/plain": [
       "unix           0\n",
       "date           0\n",
       "symbol         0\n",
       "open           0\n",
       "high           0\n",
       "low            0\n",
       "close          0\n",
       "Volume BTC     0\n",
       "Volume USDT    0\n",
       "tradecount     0\n",
       "dtype: int64"
      ]
     },
     "execution_count": 44,
     "metadata": {},
     "output_type": "execute_result"
    }
   ],
   "source": [
    "df.isnull().sum()"
   ]
  },
  {
   "cell_type": "code",
   "execution_count": 45,
   "metadata": {},
   "outputs": [
    {
     "data": {
      "text/html": [
       "<div>\n",
       "<style scoped>\n",
       "    .dataframe tbody tr th:only-of-type {\n",
       "        vertical-align: middle;\n",
       "    }\n",
       "\n",
       "    .dataframe tbody tr th {\n",
       "        vertical-align: top;\n",
       "    }\n",
       "\n",
       "    .dataframe thead th {\n",
       "        text-align: right;\n",
       "    }\n",
       "</style>\n",
       "<table border=\"1\" class=\"dataframe\">\n",
       "  <thead>\n",
       "    <tr style=\"text-align: right;\">\n",
       "      <th></th>\n",
       "      <th>unix</th>\n",
       "      <th>open</th>\n",
       "      <th>high</th>\n",
       "      <th>low</th>\n",
       "      <th>close</th>\n",
       "      <th>Volume BTC</th>\n",
       "      <th>Volume USDT</th>\n",
       "      <th>tradecount</th>\n",
       "    </tr>\n",
       "  </thead>\n",
       "  <tbody>\n",
       "    <tr>\n",
       "      <th>count</th>\n",
       "      <td>1.662000e+03</td>\n",
       "      <td>1662.000000</td>\n",
       "      <td>1662.000000</td>\n",
       "      <td>1662.000000</td>\n",
       "      <td>1662.000000</td>\n",
       "      <td>1662.000000</td>\n",
       "      <td>1.662000e+03</td>\n",
       "      <td>1.662000e+03</td>\n",
       "    </tr>\n",
       "    <tr>\n",
       "      <th>mean</th>\n",
       "      <td>1.585310e+12</td>\n",
       "      <td>20338.630933</td>\n",
       "      <td>20913.590307</td>\n",
       "      <td>19665.545415</td>\n",
       "      <td>20339.513983</td>\n",
       "      <td>54768.683564</td>\n",
       "      <td>1.219983e+09</td>\n",
       "      <td>8.633639e+05</td>\n",
       "    </tr>\n",
       "    <tr>\n",
       "      <th>std</th>\n",
       "      <td>4.146529e+10</td>\n",
       "      <td>17788.170537</td>\n",
       "      <td>18282.903665</td>\n",
       "      <td>17214.898884</td>\n",
       "      <td>17788.240188</td>\n",
       "      <td>35422.195051</td>\n",
       "      <td>1.408560e+09</td>\n",
       "      <td>7.456103e+05</td>\n",
       "    </tr>\n",
       "    <tr>\n",
       "      <th>min</th>\n",
       "      <td>1.513555e+12</td>\n",
       "      <td>3211.710000</td>\n",
       "      <td>3276.500000</td>\n",
       "      <td>3156.260000</td>\n",
       "      <td>3211.720000</td>\n",
       "      <td>809.731460</td>\n",
       "      <td>1.177017e+07</td>\n",
       "      <td>1.239400e+04</td>\n",
       "    </tr>\n",
       "    <tr>\n",
       "      <th>25%</th>\n",
       "      <td>1.549433e+12</td>\n",
       "      <td>7365.665000</td>\n",
       "      <td>7570.820000</td>\n",
       "      <td>7210.250000</td>\n",
       "      <td>7364.950000</td>\n",
       "      <td>31968.945534</td>\n",
       "      <td>2.631653e+08</td>\n",
       "      <td>2.774082e+05</td>\n",
       "    </tr>\n",
       "    <tr>\n",
       "      <th>50%</th>\n",
       "      <td>1.585310e+12</td>\n",
       "      <td>10221.185000</td>\n",
       "      <td>10438.500000</td>\n",
       "      <td>9880.375000</td>\n",
       "      <td>10221.140000</td>\n",
       "      <td>46100.888386</td>\n",
       "      <td>5.421902e+08</td>\n",
       "      <td>6.124865e+05</td>\n",
       "    </tr>\n",
       "    <tr>\n",
       "      <th>75%</th>\n",
       "      <td>1.621188e+12</td>\n",
       "      <td>36526.055000</td>\n",
       "      <td>37675.957500</td>\n",
       "      <td>34663.252500</td>\n",
       "      <td>36526.055000</td>\n",
       "      <td>67041.308437</td>\n",
       "      <td>1.861167e+09</td>\n",
       "      <td>1.252174e+06</td>\n",
       "    </tr>\n",
       "    <tr>\n",
       "      <th>max</th>\n",
       "      <td>1.657066e+12</td>\n",
       "      <td>67525.820000</td>\n",
       "      <td>69000.000000</td>\n",
       "      <td>66222.400000</td>\n",
       "      <td>67525.830000</td>\n",
       "      <td>402201.673764</td>\n",
       "      <td>1.347769e+10</td>\n",
       "      <td>6.331062e+06</td>\n",
       "    </tr>\n",
       "  </tbody>\n",
       "</table>\n",
       "</div>"
      ],
      "text/plain": [
       "               unix          open          high           low         close  \\\n",
       "count  1.662000e+03   1662.000000   1662.000000   1662.000000   1662.000000   \n",
       "mean   1.585310e+12  20338.630933  20913.590307  19665.545415  20339.513983   \n",
       "std    4.146529e+10  17788.170537  18282.903665  17214.898884  17788.240188   \n",
       "min    1.513555e+12   3211.710000   3276.500000   3156.260000   3211.720000   \n",
       "25%    1.549433e+12   7365.665000   7570.820000   7210.250000   7364.950000   \n",
       "50%    1.585310e+12  10221.185000  10438.500000   9880.375000  10221.140000   \n",
       "75%    1.621188e+12  36526.055000  37675.957500  34663.252500  36526.055000   \n",
       "max    1.657066e+12  67525.820000  69000.000000  66222.400000  67525.830000   \n",
       "\n",
       "          Volume BTC   Volume USDT    tradecount  \n",
       "count    1662.000000  1.662000e+03  1.662000e+03  \n",
       "mean    54768.683564  1.219983e+09  8.633639e+05  \n",
       "std     35422.195051  1.408560e+09  7.456103e+05  \n",
       "min       809.731460  1.177017e+07  1.239400e+04  \n",
       "25%     31968.945534  2.631653e+08  2.774082e+05  \n",
       "50%     46100.888386  5.421902e+08  6.124865e+05  \n",
       "75%     67041.308437  1.861167e+09  1.252174e+06  \n",
       "max    402201.673764  1.347769e+10  6.331062e+06  "
      ]
     },
     "execution_count": 45,
     "metadata": {},
     "output_type": "execute_result"
    }
   ],
   "source": [
    "df.describe()"
   ]
  },
  {
   "cell_type": "code",
   "execution_count": 46,
   "metadata": {},
   "outputs": [],
   "source": [
    "df['date'] =  pd.to_datetime(df['date'])"
   ]
  },
  {
   "cell_type": "code",
   "execution_count": 47,
   "metadata": {},
   "outputs": [
    {
     "name": "stdout",
     "output_type": "stream",
     "text": [
      "<class 'pandas.core.frame.DataFrame'>\n",
      "Int64Index: 1662 entries, 0 to 1661\n",
      "Data columns (total 10 columns):\n",
      " #   Column       Non-Null Count  Dtype         \n",
      "---  ------       --------------  -----         \n",
      " 0   unix         1662 non-null   float64       \n",
      " 1   date         1662 non-null   datetime64[ns]\n",
      " 2   symbol       1662 non-null   object        \n",
      " 3   open         1662 non-null   float64       \n",
      " 4   high         1662 non-null   float64       \n",
      " 5   low          1662 non-null   float64       \n",
      " 6   close        1662 non-null   float64       \n",
      " 7   Volume BTC   1662 non-null   float64       \n",
      " 8   Volume USDT  1662 non-null   float64       \n",
      " 9   tradecount   1662 non-null   float64       \n",
      "dtypes: datetime64[ns](1), float64(8), object(1)\n",
      "memory usage: 142.8+ KB\n"
     ]
    }
   ],
   "source": [
    "df.info()"
   ]
  },
  {
   "cell_type": "code",
   "execution_count": 48,
   "metadata": {},
   "outputs": [
    {
     "data": {
      "text/html": [
       "<div>\n",
       "<style scoped>\n",
       "    .dataframe tbody tr th:only-of-type {\n",
       "        vertical-align: middle;\n",
       "    }\n",
       "\n",
       "    .dataframe tbody tr th {\n",
       "        vertical-align: top;\n",
       "    }\n",
       "\n",
       "    .dataframe thead th {\n",
       "        text-align: right;\n",
       "    }\n",
       "</style>\n",
       "<table border=\"1\" class=\"dataframe\">\n",
       "  <thead>\n",
       "    <tr style=\"text-align: right;\">\n",
       "      <th></th>\n",
       "      <th>unix</th>\n",
       "      <th>date</th>\n",
       "      <th>symbol</th>\n",
       "      <th>open</th>\n",
       "      <th>high</th>\n",
       "      <th>low</th>\n",
       "      <th>close</th>\n",
       "      <th>Volume BTC</th>\n",
       "      <th>Volume USDT</th>\n",
       "      <th>tradecount</th>\n",
       "    </tr>\n",
       "  </thead>\n",
       "  <tbody>\n",
       "    <tr>\n",
       "      <th>0</th>\n",
       "      <td>1.657066e+12</td>\n",
       "      <td>2022-07-06</td>\n",
       "      <td>BTC/USDT</td>\n",
       "      <td>20175.84</td>\n",
       "      <td>20265.28</td>\n",
       "      <td>20174.46</td>\n",
       "      <td>20213.78</td>\n",
       "      <td>809.73146</td>\n",
       "      <td>1.637333e+07</td>\n",
       "      <td>12394.0</td>\n",
       "    </tr>\n",
       "    <tr>\n",
       "      <th>1</th>\n",
       "      <td>1.656979e+12</td>\n",
       "      <td>2022-07-05</td>\n",
       "      <td>BTC/USDT</td>\n",
       "      <td>20236.71</td>\n",
       "      <td>20750.00</td>\n",
       "      <td>19304.40</td>\n",
       "      <td>20175.83</td>\n",
       "      <td>96041.13756</td>\n",
       "      <td>1.919950e+09</td>\n",
       "      <td>1612273.0</td>\n",
       "    </tr>\n",
       "    <tr>\n",
       "      <th>2</th>\n",
       "      <td>1.656893e+12</td>\n",
       "      <td>2022-07-04</td>\n",
       "      <td>BTC/USDT</td>\n",
       "      <td>19315.83</td>\n",
       "      <td>20354.01</td>\n",
       "      <td>19055.31</td>\n",
       "      <td>20236.71</td>\n",
       "      <td>74814.04601</td>\n",
       "      <td>1.470988e+09</td>\n",
       "      <td>1282843.0</td>\n",
       "    </tr>\n",
       "    <tr>\n",
       "      <th>3</th>\n",
       "      <td>1.656806e+12</td>\n",
       "      <td>2022-07-03</td>\n",
       "      <td>BTC/USDT</td>\n",
       "      <td>19252.82</td>\n",
       "      <td>19647.63</td>\n",
       "      <td>18781.00</td>\n",
       "      <td>19315.83</td>\n",
       "      <td>51087.46631</td>\n",
       "      <td>9.802559e+08</td>\n",
       "      <td>880786.0</td>\n",
       "    </tr>\n",
       "    <tr>\n",
       "      <th>4</th>\n",
       "      <td>1.656720e+12</td>\n",
       "      <td>2022-07-02</td>\n",
       "      <td>BTC/USDT</td>\n",
       "      <td>19279.80</td>\n",
       "      <td>19467.39</td>\n",
       "      <td>18977.01</td>\n",
       "      <td>19252.81</td>\n",
       "      <td>46180.30210</td>\n",
       "      <td>8.884155e+08</td>\n",
       "      <td>833508.0</td>\n",
       "    </tr>\n",
       "  </tbody>\n",
       "</table>\n",
       "</div>"
      ],
      "text/plain": [
       "           unix       date    symbol      open      high       low     close  \\\n",
       "0  1.657066e+12 2022-07-06  BTC/USDT  20175.84  20265.28  20174.46  20213.78   \n",
       "1  1.656979e+12 2022-07-05  BTC/USDT  20236.71  20750.00  19304.40  20175.83   \n",
       "2  1.656893e+12 2022-07-04  BTC/USDT  19315.83  20354.01  19055.31  20236.71   \n",
       "3  1.656806e+12 2022-07-03  BTC/USDT  19252.82  19647.63  18781.00  19315.83   \n",
       "4  1.656720e+12 2022-07-02  BTC/USDT  19279.80  19467.39  18977.01  19252.81   \n",
       "\n",
       "    Volume BTC   Volume USDT  tradecount  \n",
       "0    809.73146  1.637333e+07     12394.0  \n",
       "1  96041.13756  1.919950e+09   1612273.0  \n",
       "2  74814.04601  1.470988e+09   1282843.0  \n",
       "3  51087.46631  9.802559e+08    880786.0  \n",
       "4  46180.30210  8.884155e+08    833508.0  "
      ]
     },
     "execution_count": 48,
     "metadata": {},
     "output_type": "execute_result"
    }
   ],
   "source": [
    "df.head()"
   ]
  },
  {
   "cell_type": "code",
   "execution_count": 49,
   "metadata": {},
   "outputs": [
    {
     "data": {
      "text/html": [
       "<div>\n",
       "<style scoped>\n",
       "    .dataframe tbody tr th:only-of-type {\n",
       "        vertical-align: middle;\n",
       "    }\n",
       "\n",
       "    .dataframe tbody tr th {\n",
       "        vertical-align: top;\n",
       "    }\n",
       "\n",
       "    .dataframe thead th {\n",
       "        text-align: right;\n",
       "    }\n",
       "</style>\n",
       "<table border=\"1\" class=\"dataframe\">\n",
       "  <thead>\n",
       "    <tr style=\"text-align: right;\">\n",
       "      <th></th>\n",
       "      <th>unix</th>\n",
       "      <th>date</th>\n",
       "      <th>symbol</th>\n",
       "      <th>open</th>\n",
       "      <th>high</th>\n",
       "      <th>low</th>\n",
       "      <th>close</th>\n",
       "      <th>Volume BTC</th>\n",
       "      <th>Volume USDT</th>\n",
       "      <th>tradecount</th>\n",
       "    </tr>\n",
       "  </thead>\n",
       "  <tbody>\n",
       "    <tr>\n",
       "      <th>1657</th>\n",
       "      <td>1.513901e+12</td>\n",
       "      <td>2017-12-22</td>\n",
       "      <td>BTC/USDT</td>\n",
       "      <td>15514.03</td>\n",
       "      <td>15699.34</td>\n",
       "      <td>10961.00</td>\n",
       "      <td>13326.61</td>\n",
       "      <td>36076.271175</td>\n",
       "      <td>4.775099e+08</td>\n",
       "      <td>243261.0</td>\n",
       "    </tr>\n",
       "    <tr>\n",
       "      <th>1658</th>\n",
       "      <td>1.513814e+12</td>\n",
       "      <td>2017-12-21</td>\n",
       "      <td>BTC/USDT</td>\n",
       "      <td>16480.52</td>\n",
       "      <td>17309.50</td>\n",
       "      <td>14022.00</td>\n",
       "      <td>15492.64</td>\n",
       "      <td>20324.217300</td>\n",
       "      <td>3.201768e+08</td>\n",
       "      <td>117731.0</td>\n",
       "    </tr>\n",
       "    <tr>\n",
       "      <th>1659</th>\n",
       "      <td>1.513728e+12</td>\n",
       "      <td>2017-12-20</td>\n",
       "      <td>BTC/USDT</td>\n",
       "      <td>17295.20</td>\n",
       "      <td>17720.35</td>\n",
       "      <td>14777.66</td>\n",
       "      <td>16488.98</td>\n",
       "      <td>13450.496693</td>\n",
       "      <td>2.211939e+08</td>\n",
       "      <td>129762.0</td>\n",
       "    </tr>\n",
       "    <tr>\n",
       "      <th>1660</th>\n",
       "      <td>1.513642e+12</td>\n",
       "      <td>2017-12-19</td>\n",
       "      <td>BTC/USDT</td>\n",
       "      <td>18856.25</td>\n",
       "      <td>18950.00</td>\n",
       "      <td>16300.00</td>\n",
       "      <td>17295.20</td>\n",
       "      <td>13210.748220</td>\n",
       "      <td>2.327906e+08</td>\n",
       "      <td>116569.0</td>\n",
       "    </tr>\n",
       "    <tr>\n",
       "      <th>1661</th>\n",
       "      <td>1.513555e+12</td>\n",
       "      <td>2017-12-18</td>\n",
       "      <td>BTC/USDT</td>\n",
       "      <td>18860.04</td>\n",
       "      <td>19300.00</td>\n",
       "      <td>17029.98</td>\n",
       "      <td>18856.25</td>\n",
       "      <td>10624.633071</td>\n",
       "      <td>1.963392e+08</td>\n",
       "      <td>91956.0</td>\n",
       "    </tr>\n",
       "  </tbody>\n",
       "</table>\n",
       "</div>"
      ],
      "text/plain": [
       "              unix       date    symbol      open      high       low  \\\n",
       "1657  1.513901e+12 2017-12-22  BTC/USDT  15514.03  15699.34  10961.00   \n",
       "1658  1.513814e+12 2017-12-21  BTC/USDT  16480.52  17309.50  14022.00   \n",
       "1659  1.513728e+12 2017-12-20  BTC/USDT  17295.20  17720.35  14777.66   \n",
       "1660  1.513642e+12 2017-12-19  BTC/USDT  18856.25  18950.00  16300.00   \n",
       "1661  1.513555e+12 2017-12-18  BTC/USDT  18860.04  19300.00  17029.98   \n",
       "\n",
       "         close    Volume BTC   Volume USDT  tradecount  \n",
       "1657  13326.61  36076.271175  4.775099e+08    243261.0  \n",
       "1658  15492.64  20324.217300  3.201768e+08    117731.0  \n",
       "1659  16488.98  13450.496693  2.211939e+08    129762.0  \n",
       "1660  17295.20  13210.748220  2.327906e+08    116569.0  \n",
       "1661  18856.25  10624.633071  1.963392e+08     91956.0  "
      ]
     },
     "execution_count": 49,
     "metadata": {},
     "output_type": "execute_result"
    }
   ],
   "source": [
    "df.tail()"
   ]
  },
  {
   "cell_type": "markdown",
   "metadata": {},
   "source": [
    "# EDA"
   ]
  },
  {
   "cell_type": "code",
   "execution_count": 50,
   "metadata": {},
   "outputs": [
    {
     "data": {
      "image/png": "[encoded data removed]",
      "text/plain": [
       "<Figure size 864x576 with 1 Axes>"
      ]
     },
     "metadata": {
      "needs_background": "light"
     },
     "output_type": "display_data"
    }
   ],
   "source": [
    "fig = plt.figure(figsize=(12, 8))\n",
    "plt.plot(df.date, df.close, label='Bitcoin Prices', \n",
    "         linewidth=1)\n",
    "\n",
    "plt.title('Bitcoin Prices')\n",
    "plt.xlabel('Date')\n",
    "plt.ylabel('Price')\n",
    "\n",
    "\n",
    "plt.legend()\n",
    "\n",
    "\n",
    "plt.tight_layout()\n",
    "\n",
    "plt.show() \n",
    "\n",
    "\n"
   ]
  },
  {
   "cell_type": "code",
   "execution_count": 51,
   "metadata": {},
   "outputs": [
    {
     "data": {
      "image/png": "[encoded data removed]",
      "text/plain": [
       "<Figure size 864x576 with 1 Axes>"
      ]
     },
     "metadata": {
      "needs_background": "light"
     },
     "output_type": "display_data"
    }
   ],
   "source": [
    "fig = plt.figure(figsize=(12, 8))\n",
    "plt.plot(df.date, df.tradecount, label='transaction', \n",
    "         linewidth=1)\n",
    "\n",
    "plt.title('Bitcoin Transaction')\n",
    "plt.xlabel('Date')\n",
    "plt.ylabel('Transaction')\n",
    "\n",
    "\n",
    "plt.legend()\n",
    "\n",
    "\n",
    "plt.tight_layout()\n",
    "\n",
    "\n",
    "plt.show() "
   ]
  },
  {
   "cell_type": "markdown",
   "metadata": {},
   "source": [
    "# Model Definition"
   ]
  },
  {
   "cell_type": "code",
   "execution_count": 52,
   "metadata": {},
   "outputs": [],
   "source": [
    "model_lin_reg =LinearRegression()"
   ]
  },
  {
   "cell_type": "code",
   "execution_count": 53,
   "metadata": {},
   "outputs": [],
   "source": [
    "# Hyper parameter yang digunakan adalah 'close'\n",
    "y = df['close']\n",
    "X = df.drop('close', axis=1)"
   ]
  },
  {
   "cell_type": "code",
   "execution_count": 54,
   "metadata": {},
   "outputs": [],
   "source": [
    "X_train, X_test, y_train, y_test = train_test_split(X, y, train_size=0.75, shuffle=True, random_state=21)"
   ]
  },
  {
   "cell_type": "code",
   "execution_count": 55,
   "metadata": {},
   "outputs": [
    {
     "name": "stdout",
     "output_type": "stream",
     "text": [
      "(1246, 9)\n",
      "(416, 9)\n"
     ]
    }
   ],
   "source": [
    "print(X_train.shape)\n",
    "print(X_test.shape)"
   ]
  },
  {
   "cell_type": "code",
   "execution_count": 56,
   "metadata": {},
   "outputs": [],
   "source": [
    "linear = linear_model.LinearRegression()"
   ]
  },
  {
   "cell_type": "markdown",
   "metadata": {},
   "source": [
    "# Model Training"
   ]
  },
  {
   "cell_type": "code",
   "execution_count": 57,
   "metadata": {},
   "outputs": [
    {
     "name": "stdout",
     "output_type": "stream",
     "text": [
      "Numeric Columns: ['unix', 'open', 'high', 'low', 'Volume BTC', 'Volume USDT', 'tradecount']\n",
      "categorical Columns: ['symbol']\n"
     ]
    }
   ],
   "source": [
    "num_columns = X_train.select_dtypes(include=np.number).columns.tolist()\n",
    "cat_columns = X_train.select_dtypes(include=['object']).columns.tolist()\n",
    "print('Numeric Columns:', num_columns)\n",
    "print('categorical Columns:', cat_columns)"
   ]
  },
  {
   "cell_type": "code",
   "execution_count": 58,
   "metadata": {},
   "outputs": [],
   "source": [
    "X_train_num = X_train[num_columns]\n",
    "X_train_cat = X_train[cat_columns]\n",
    "\n",
    "X_test_num = X_test[num_columns]\n",
    "X_test_cat = X_test[cat_columns]"
   ]
  },
  {
   "cell_type": "code",
   "execution_count": 59,
   "metadata": {},
   "outputs": [
    {
     "data": {
      "text/plain": [
       "array([[0.32630945, 0.07643626, 0.07633732, ..., 0.07388796, 0.01757384,\n",
       "        0.05204451],\n",
       "       [0.61890427, 0.12565687, 0.1240526 , ..., 0.07034052, 0.02362687,\n",
       "        0.07870646],\n",
       "       [0.02408188, 0.12248152, 0.12717256, ..., 0.0449711 , 0.01491862,\n",
       "        0.03087423],\n",
       "       ...,\n",
       "       [0.53521975, 0.08561776, 0.08653182, ..., 0.15452273, 0.04023304,\n",
       "        0.11413212],\n",
       "       [0.25888019, 0.01178637, 0.01099565, ..., 0.07547275, 0.00823888,\n",
       "        0.03120547],\n",
       "       [0.4166165 , 0.08703331, 0.08908151, ..., 0.08373935, 0.02194775,\n",
       "        0.05753618]])"
      ]
     },
     "execution_count": 59,
     "metadata": {},
     "output_type": "execute_result"
    }
   ],
   "source": [
    "scaler = MinMaxScaler ()\n",
    "X_train_num_scaled = scaler.fit_transform(X_train_num)\n",
    "X_test_num_scaled= scaler.transform(X_test_num)\n",
    "X_train_num_scaled"
   ]
  },
  {
   "cell_type": "code",
   "execution_count": 60,
   "metadata": {},
   "outputs": [
    {
     "data": {
      "text/plain": [
       "array([[0.],\n",
       "       [0.],\n",
       "       [0.],\n",
       "       ...,\n",
       "       [0.],\n",
       "       [0.],\n",
       "       [0.]])"
      ]
     },
     "execution_count": 60,
     "metadata": {},
     "output_type": "execute_result"
    }
   ],
   "source": [
    "encoder =OrdinalEncoder()\n",
    "X_train_cat_encoded = encoder.fit_transform(X_train_cat)\n",
    "X_test_cat_encoded=encoder.transform(X_test_cat)\n",
    "X_train_cat_encoded"
   ]
  },
  {
   "cell_type": "code",
   "execution_count": 61,
   "metadata": {},
   "outputs": [
    {
     "data": {
      "text/html": [
       "<div>\n",
       "<style scoped>\n",
       "    .dataframe tbody tr th:only-of-type {\n",
       "        vertical-align: middle;\n",
       "    }\n",
       "\n",
       "    .dataframe tbody tr th {\n",
       "        vertical-align: top;\n",
       "    }\n",
       "\n",
       "    .dataframe thead tr th {\n",
       "        text-align: left;\n",
       "    }\n",
       "</style>\n",
       "<table border=\"1\" class=\"dataframe\">\n",
       "  <thead>\n",
       "    <tr>\n",
       "      <th></th>\n",
       "      <th>unix</th>\n",
       "      <th>open</th>\n",
       "      <th>high</th>\n",
       "      <th>low</th>\n",
       "      <th>Volume BTC</th>\n",
       "      <th>Volume USDT</th>\n",
       "      <th>tradecount</th>\n",
       "      <th>symbol</th>\n",
       "    </tr>\n",
       "  </thead>\n",
       "  <tbody>\n",
       "    <tr>\n",
       "      <th>0</th>\n",
       "      <td>0.326309</td>\n",
       "      <td>0.076436</td>\n",
       "      <td>0.076337</td>\n",
       "      <td>0.076528</td>\n",
       "      <td>0.073888</td>\n",
       "      <td>0.017574</td>\n",
       "      <td>0.052045</td>\n",
       "      <td>0.0</td>\n",
       "    </tr>\n",
       "    <tr>\n",
       "      <th>1</th>\n",
       "      <td>0.618904</td>\n",
       "      <td>0.125657</td>\n",
       "      <td>0.124053</td>\n",
       "      <td>0.127466</td>\n",
       "      <td>0.070341</td>\n",
       "      <td>0.023627</td>\n",
       "      <td>0.078706</td>\n",
       "      <td>0.0</td>\n",
       "    </tr>\n",
       "    <tr>\n",
       "      <th>2</th>\n",
       "      <td>0.024082</td>\n",
       "      <td>0.122482</td>\n",
       "      <td>0.127173</td>\n",
       "      <td>0.121465</td>\n",
       "      <td>0.044971</td>\n",
       "      <td>0.014919</td>\n",
       "      <td>0.030874</td>\n",
       "      <td>0.0</td>\n",
       "    </tr>\n",
       "    <tr>\n",
       "      <th>3</th>\n",
       "      <td>0.128236</td>\n",
       "      <td>0.064841</td>\n",
       "      <td>0.065173</td>\n",
       "      <td>0.064788</td>\n",
       "      <td>0.100671</td>\n",
       "      <td>0.021790</td>\n",
       "      <td>0.035324</td>\n",
       "      <td>0.0</td>\n",
       "    </tr>\n",
       "    <tr>\n",
       "      <th>4</th>\n",
       "      <td>0.347381</td>\n",
       "      <td>0.100400</td>\n",
       "      <td>0.114054</td>\n",
       "      <td>0.096230</td>\n",
       "      <td>0.197995</td>\n",
       "      <td>0.059116</td>\n",
       "      <td>0.114332</td>\n",
       "      <td>0.0</td>\n",
       "    </tr>\n",
       "    <tr>\n",
       "      <th>...</th>\n",
       "      <td>...</td>\n",
       "      <td>...</td>\n",
       "      <td>...</td>\n",
       "      <td>...</td>\n",
       "      <td>...</td>\n",
       "      <td>...</td>\n",
       "      <td>...</td>\n",
       "      <td>...</td>\n",
       "    </tr>\n",
       "    <tr>\n",
       "      <th>1241</th>\n",
       "      <td>0.778447</td>\n",
       "      <td>0.475398</td>\n",
       "      <td>0.481716</td>\n",
       "      <td>0.477989</td>\n",
       "      <td>0.105221</td>\n",
       "      <td>0.108916</td>\n",
       "      <td>0.168688</td>\n",
       "      <td>0.0</td>\n",
       "    </tr>\n",
       "    <tr>\n",
       "      <th>1242</th>\n",
       "      <td>0.971102</td>\n",
       "      <td>0.396548</td>\n",
       "      <td>0.414744</td>\n",
       "      <td>0.404614</td>\n",
       "      <td>0.167088</td>\n",
       "      <td>0.148715</td>\n",
       "      <td>0.292528</td>\n",
       "      <td>0.0</td>\n",
       "    </tr>\n",
       "    <tr>\n",
       "      <th>1243</th>\n",
       "      <td>0.535220</td>\n",
       "      <td>0.085618</td>\n",
       "      <td>0.086532</td>\n",
       "      <td>0.086565</td>\n",
       "      <td>0.154523</td>\n",
       "      <td>0.040233</td>\n",
       "      <td>0.114132</td>\n",
       "      <td>0.0</td>\n",
       "    </tr>\n",
       "    <tr>\n",
       "      <th>1244</th>\n",
       "      <td>0.258880</td>\n",
       "      <td>0.011786</td>\n",
       "      <td>0.010996</td>\n",
       "      <td>0.011343</td>\n",
       "      <td>0.075473</td>\n",
       "      <td>0.008239</td>\n",
       "      <td>0.031205</td>\n",
       "      <td>0.0</td>\n",
       "    </tr>\n",
       "    <tr>\n",
       "      <th>1245</th>\n",
       "      <td>0.416616</td>\n",
       "      <td>0.087033</td>\n",
       "      <td>0.089082</td>\n",
       "      <td>0.088266</td>\n",
       "      <td>0.083739</td>\n",
       "      <td>0.021948</td>\n",
       "      <td>0.057536</td>\n",
       "      <td>0.0</td>\n",
       "    </tr>\n",
       "  </tbody>\n",
       "</table>\n",
       "<p>1246 rows × 8 columns</p>\n",
       "</div>"
      ],
      "text/plain": [
       "          unix      open      high       low Volume BTC Volume USDT  \\\n",
       "0     0.326309  0.076436  0.076337  0.076528   0.073888    0.017574   \n",
       "1     0.618904  0.125657  0.124053  0.127466   0.070341    0.023627   \n",
       "2     0.024082  0.122482  0.127173  0.121465   0.044971    0.014919   \n",
       "3     0.128236  0.064841  0.065173  0.064788   0.100671    0.021790   \n",
       "4     0.347381  0.100400  0.114054  0.096230   0.197995    0.059116   \n",
       "...        ...       ...       ...       ...        ...         ...   \n",
       "1241  0.778447  0.475398  0.481716  0.477989   0.105221    0.108916   \n",
       "1242  0.971102  0.396548  0.414744  0.404614   0.167088    0.148715   \n",
       "1243  0.535220  0.085618  0.086532  0.086565   0.154523    0.040233   \n",
       "1244  0.258880  0.011786  0.010996  0.011343   0.075473    0.008239   \n",
       "1245  0.416616  0.087033  0.089082  0.088266   0.083739    0.021948   \n",
       "\n",
       "     tradecount symbol  \n",
       "0      0.052045    0.0  \n",
       "1      0.078706    0.0  \n",
       "2      0.030874    0.0  \n",
       "3      0.035324    0.0  \n",
       "4      0.114332    0.0  \n",
       "...         ...    ...  \n",
       "1241   0.168688    0.0  \n",
       "1242   0.292528    0.0  \n",
       "1243   0.114132    0.0  \n",
       "1244   0.031205    0.0  \n",
       "1245   0.057536    0.0  \n",
       "\n",
       "[1246 rows x 8 columns]"
      ]
     },
     "execution_count": 61,
     "metadata": {},
     "output_type": "execute_result"
    }
   ],
   "source": [
    "X_train_final = np.concatenate([X_train_num_scaled, X_train_cat_encoded], axis=1)\n",
    "X_test_final = np.concatenate([X_test_num_scaled, X_test_cat_encoded], axis=1)\n",
    "X_train_final_df=pd.DataFrame(X_train_final,columns=[num_columns+cat_columns])\n",
    "X_train_final_df"
   ]
  },
  {
   "cell_type": "code",
   "execution_count": 62,
   "metadata": {},
   "outputs": [
    {
     "data": {
      "text/html": [
       "<style>#sk-container-id-2 {color: black;background-color: white;}#sk-container-id-2 pre{padding: 0;}#sk-container-id-2 div.sk-toggleable {background-color: white;}#sk-container-id-2 label.sk-toggleable__label {cursor: pointer;display: block;width: 100%;margin-bottom: 0;padding: 0.3em;box-sizing: border-box;text-align: center;}#sk-container-id-2 label.sk-toggleable__label-arrow:before {content: \"▸\";float: left;margin-right: 0.25em;color: #696969;}#sk-container-id-2 label.sk-toggleable__label-arrow:hover:before {color: black;}#sk-container-id-2 div.sk-estimator:hover label.sk-toggleable__label-arrow:before {color: black;}#sk-container-id-2 div.sk-toggleable__content {max-height: 0;max-width: 0;overflow: hidden;text-align: left;background-color: #f0f8ff;}#sk-container-id-2 div.sk-toggleable__content pre {margin: 0.2em;color: black;border-radius: 0.25em;background-color: #f0f8ff;}#sk-container-id-2 input.sk-toggleable__control:checked~div.sk-toggleable__content {max-height: 200px;max-width: 100%;overflow: auto;}#sk-container-id-2 input.sk-toggleable__control:checked~label.sk-toggleable__label-arrow:before {content: \"▾\";}#sk-container-id-2 div.sk-estimator input.sk-toggleable__control:checked~label.sk-toggleable__label {background-color: #d4ebff;}#sk-container-id-2 div.sk-label input.sk-toggleable__control:checked~label.sk-toggleable__label {background-color: #d4ebff;}#sk-container-id-2 input.sk-hidden--visually {border: 0;clip: rect(1px 1px 1px 1px);clip: rect(1px, 1px, 1px, 1px);height: 1px;margin: -1px;overflow: hidden;padding: 0;position: absolute;width: 1px;}#sk-container-id-2 div.sk-estimator {font-family: monospace;background-color: #f0f8ff;border: 1px dotted black;border-radius: 0.25em;box-sizing: border-box;margin-bottom: 0.5em;}#sk-container-id-2 div.sk-estimator:hover {background-color: #d4ebff;}#sk-container-id-2 div.sk-parallel-item::after {content: \"\";width: 100%;border-bottom: 1px solid gray;flex-grow: 1;}#sk-container-id-2 div.sk-label:hover label.sk-toggleable__label {background-color: #d4ebff;}#sk-container-id-2 div.sk-serial::before {content: \"\";position: absolute;border-left: 1px solid gray;box-sizing: border-box;top: 0;bottom: 0;left: 50%;z-index: 0;}#sk-container-id-2 div.sk-serial {display: flex;flex-direction: column;align-items: center;background-color: white;padding-right: 0.2em;padding-left: 0.2em;position: relative;}#sk-container-id-2 div.sk-item {position: relative;z-index: 1;}#sk-container-id-2 div.sk-parallel {display: flex;align-items: stretch;justify-content: center;background-color: white;position: relative;}#sk-container-id-2 div.sk-item::before, #sk-container-id-2 div.sk-parallel-item::before {content: \"\";position: absolute;border-left: 1px solid gray;box-sizing: border-box;top: 0;bottom: 0;left: 50%;z-index: -1;}#sk-container-id-2 div.sk-parallel-item {display: flex;flex-direction: column;z-index: 1;position: relative;background-color: white;}#sk-container-id-2 div.sk-parallel-item:first-child::after {align-self: flex-end;width: 50%;}#sk-container-id-2 div.sk-parallel-item:last-child::after {align-self: flex-start;width: 50%;}#sk-container-id-2 div.sk-parallel-item:only-child::after {width: 0;}#sk-container-id-2 div.sk-dashed-wrapped {border: 1px dashed gray;margin: 0 0.4em 0.5em 0.4em;box-sizing: border-box;padding-bottom: 0.4em;background-color: white;}#sk-container-id-2 div.sk-label label {font-family: monospace;font-weight: bold;display: inline-block;line-height: 1.2em;}#sk-container-id-2 div.sk-label-container {text-align: center;}#sk-container-id-2 div.sk-container {/* jupyter's `normalize.less` sets `[hidden] { display: none; }` but bootstrap.min.css set `[hidden] { display: none !important; }` so we also need the `!important` here to be able to override the default hidden behavior on the sphinx rendered scikit-learn.org. See: https://github.com/scikit-learn/scikit-learn/issues/21755 */display: inline-block !important;position: relative;}#sk-container-id-2 div.sk-text-repr-fallback {display: none;}</style><div id=\"sk-container-id-2\" class=\"sk-top-container\"><div class=\"sk-text-repr-fallback\"><pre>LinearRegression()</pre><b>In a Jupyter environment, please rerun this cell to show the HTML representation or trust the notebook. <br />On GitHub, the HTML representation is unable to render, please try loading this page with nbviewer.org.</b></div><div class=\"sk-container\" hidden><div class=\"sk-item\"><div class=\"sk-estimator sk-toggleable\"><input class=\"sk-toggleable__control sk-hidden--visually\" id=\"sk-estimator-id-2\" type=\"checkbox\" checked><label for=\"sk-estimator-id-2\" class=\"sk-toggleable__label sk-toggleable__label-arrow\">LinearRegression</label><div class=\"sk-toggleable__content\"><pre>LinearRegression()</pre></div></div></div></div></div>"
      ],
      "text/plain": [
       "LinearRegression()"
      ]
     },
     "execution_count": 62,
     "metadata": {},
     "output_type": "execute_result"
    }
   ],
   "source": [
    "model_lin_reg.fit(X_train_final, y_train)"
   ]
  },
  {
   "cell_type": "code",
   "execution_count": 63,
   "metadata": {},
   "outputs": [
    {
     "name": "stdout",
     "output_type": "stream",
     "text": [
      "3310.7180676947355\n",
      "[  -101.41974356 -32943.07612303  61105.19936364  36248.74420088\n",
      "   -876.90970297  -1651.30398118   1903.2461953       0.        ]\n"
     ]
    }
   ],
   "source": [
    "model = LinearRegression(fit_intercept=True)\n",
    "model.fit(X_train_final,y_train)\n",
    "\n",
    "print(model.intercept_)\n",
    "print(model.coef_)"
   ]
  },
  {
   "cell_type": "code",
   "execution_count": 64,
   "metadata": {},
   "outputs": [
    {
     "data": {
      "text/plain": [
       "MultiIndex([(       'unix',),\n",
       "            (       'open',),\n",
       "            (       'high',),\n",
       "            (        'low',),\n",
       "            ( 'Volume BTC',),\n",
       "            ('Volume USDT',),\n",
       "            ( 'tradecount',),\n",
       "            (     'symbol',)],\n",
       "           )"
      ]
     },
     "execution_count": 64,
     "metadata": {},
     "output_type": "execute_result"
    }
   ],
   "source": [
    "X_train_final_df.columns"
   ]
  },
  {
   "cell_type": "markdown",
   "metadata": {},
   "source": [
    "# Model Evaluation"
   ]
  },
  {
   "cell_type": "code",
   "execution_count": 65,
   "metadata": {},
   "outputs": [
    {
     "name": "stdout",
     "output_type": "stream",
     "text": [
      "r2score 0.9993913435726103\n",
      "r2score 0.9993058622454909\n"
     ]
    }
   ],
   "source": [
    "y_pred_train = model_lin_reg.predict(X_train_final)\n",
    "y_pred_test = model_lin_reg.predict(X_test_final)\n",
    "\n",
    "print('r2score',r2_score(y_train,y_pred_train))\n",
    "print('r2score',r2_score(y_test,y_pred_test))"
   ]
  },
  {
   "cell_type": "markdown",
   "metadata": {},
   "source": [
    "# Model Inference"
   ]
  },
  {
   "cell_type": "code",
   "execution_count": 66,
   "metadata": {},
   "outputs": [],
   "source": [
    "data_inf= df.sample(10, random_state=21)\n",
    "data_inf.reset_index(drop=True,inplace=True)"
   ]
  },
  {
   "cell_type": "code",
   "execution_count": 67,
   "metadata": {},
   "outputs": [
    {
     "data": {
      "text/html": [
       "<div>\n",
       "<style scoped>\n",
       "    .dataframe tbody tr th:only-of-type {\n",
       "        vertical-align: middle;\n",
       "    }\n",
       "\n",
       "    .dataframe tbody tr th {\n",
       "        vertical-align: top;\n",
       "    }\n",
       "\n",
       "    .dataframe thead th {\n",
       "        text-align: right;\n",
       "    }\n",
       "</style>\n",
       "<table border=\"1\" class=\"dataframe\">\n",
       "  <thead>\n",
       "    <tr style=\"text-align: right;\">\n",
       "      <th></th>\n",
       "      <th>unix</th>\n",
       "      <th>date</th>\n",
       "      <th>symbol</th>\n",
       "      <th>open</th>\n",
       "      <th>high</th>\n",
       "      <th>low</th>\n",
       "      <th>close</th>\n",
       "      <th>Volume BTC</th>\n",
       "      <th>Volume USDT</th>\n",
       "      <th>tradecount</th>\n",
       "    </tr>\n",
       "  </thead>\n",
       "  <tbody>\n",
       "    <tr>\n",
       "      <th>0</th>\n",
       "      <td>1.600214e+12</td>\n",
       "      <td>2020-09-16</td>\n",
       "      <td>BTC/USDT</td>\n",
       "      <td>10785.23</td>\n",
       "      <td>11093.00</td>\n",
       "      <td>10661.22</td>\n",
       "      <td>10954.01</td>\n",
       "      <td>64991.512440</td>\n",
       "      <td>7.086450e+08</td>\n",
       "      <td>884153.0</td>\n",
       "    </tr>\n",
       "    <tr>\n",
       "      <th>1</th>\n",
       "      <td>1.571962e+12</td>\n",
       "      <td>2019-10-25</td>\n",
       "      <td>BTC/USDT</td>\n",
       "      <td>7412.41</td>\n",
       "      <td>8799.00</td>\n",
       "      <td>7361.00</td>\n",
       "      <td>8655.02</td>\n",
       "      <td>90748.218174</td>\n",
       "      <td>7.373295e+08</td>\n",
       "      <td>775418.0</td>\n",
       "    </tr>\n",
       "    <tr>\n",
       "      <th>2</th>\n",
       "      <td>1.537402e+12</td>\n",
       "      <td>2018-09-20</td>\n",
       "      <td>BTC/USDT</td>\n",
       "      <td>6392.00</td>\n",
       "      <td>6540.00</td>\n",
       "      <td>6325.00</td>\n",
       "      <td>6492.00</td>\n",
       "      <td>25189.024728</td>\n",
       "      <td>1.618443e+08</td>\n",
       "      <td>153686.0</td>\n",
       "    </tr>\n",
       "    <tr>\n",
       "      <th>3</th>\n",
       "      <td>1.636589e+12</td>\n",
       "      <td>2021-11-11</td>\n",
       "      <td>BTC/USDT</td>\n",
       "      <td>64882.42</td>\n",
       "      <td>65600.07</td>\n",
       "      <td>64100.00</td>\n",
       "      <td>64774.26</td>\n",
       "      <td>37237.980580</td>\n",
       "      <td>2.415537e+09</td>\n",
       "      <td>1327827.0</td>\n",
       "    </tr>\n",
       "    <tr>\n",
       "      <th>4</th>\n",
       "      <td>1.569370e+12</td>\n",
       "      <td>2019-09-25</td>\n",
       "      <td>BTC/USDT</td>\n",
       "      <td>8497.55</td>\n",
       "      <td>8730.00</td>\n",
       "      <td>8215.64</td>\n",
       "      <td>8430.05</td>\n",
       "      <td>60783.892258</td>\n",
       "      <td>5.124372e+08</td>\n",
       "      <td>544806.0</td>\n",
       "    </tr>\n",
       "    <tr>\n",
       "      <th>5</th>\n",
       "      <td>1.639699e+12</td>\n",
       "      <td>2021-12-17</td>\n",
       "      <td>BTC/USDT</td>\n",
       "      <td>47632.38</td>\n",
       "      <td>47995.96</td>\n",
       "      <td>45456.00</td>\n",
       "      <td>46131.20</td>\n",
       "      <td>43104.488700</td>\n",
       "      <td>2.015966e+09</td>\n",
       "      <td>1261780.0</td>\n",
       "    </tr>\n",
       "    <tr>\n",
       "      <th>6</th>\n",
       "      <td>1.581552e+12</td>\n",
       "      <td>2020-02-13</td>\n",
       "      <td>BTC/USDT</td>\n",
       "      <td>10325.33</td>\n",
       "      <td>10500.00</td>\n",
       "      <td>10080.00</td>\n",
       "      <td>10229.63</td>\n",
       "      <td>79344.358759</td>\n",
       "      <td>8.155075e+08</td>\n",
       "      <td>932802.0</td>\n",
       "    </tr>\n",
       "    <tr>\n",
       "      <th>7</th>\n",
       "      <td>1.541030e+12</td>\n",
       "      <td>2018-11-01</td>\n",
       "      <td>BTC/USDT</td>\n",
       "      <td>6369.52</td>\n",
       "      <td>6442.65</td>\n",
       "      <td>6348.66</td>\n",
       "      <td>6410.00</td>\n",
       "      <td>9099.035841</td>\n",
       "      <td>5.803169e+07</td>\n",
       "      <td>89601.0</td>\n",
       "    </tr>\n",
       "    <tr>\n",
       "      <th>8</th>\n",
       "      <td>1.595549e+12</td>\n",
       "      <td>2020-07-24</td>\n",
       "      <td>BTC/USDT</td>\n",
       "      <td>9603.27</td>\n",
       "      <td>9637.00</td>\n",
       "      <td>9463.44</td>\n",
       "      <td>9537.80</td>\n",
       "      <td>43931.136205</td>\n",
       "      <td>4.192403e+08</td>\n",
       "      <td>677725.0</td>\n",
       "    </tr>\n",
       "    <tr>\n",
       "      <th>9</th>\n",
       "      <td>1.615766e+12</td>\n",
       "      <td>2021-03-15</td>\n",
       "      <td>BTC/USDT</td>\n",
       "      <td>58976.08</td>\n",
       "      <td>60633.43</td>\n",
       "      <td>54600.00</td>\n",
       "      <td>55605.20</td>\n",
       "      <td>102771.427298</td>\n",
       "      <td>5.874241e+09</td>\n",
       "      <td>2683815.0</td>\n",
       "    </tr>\n",
       "  </tbody>\n",
       "</table>\n",
       "</div>"
      ],
      "text/plain": [
       "           unix       date    symbol      open      high       low     close  \\\n",
       "0  1.600214e+12 2020-09-16  BTC/USDT  10785.23  11093.00  10661.22  10954.01   \n",
       "1  1.571962e+12 2019-10-25  BTC/USDT   7412.41   8799.00   7361.00   8655.02   \n",
       "2  1.537402e+12 2018-09-20  BTC/USDT   6392.00   6540.00   6325.00   6492.00   \n",
       "3  1.636589e+12 2021-11-11  BTC/USDT  64882.42  65600.07  64100.00  64774.26   \n",
       "4  1.569370e+12 2019-09-25  BTC/USDT   8497.55   8730.00   8215.64   8430.05   \n",
       "5  1.639699e+12 2021-12-17  BTC/USDT  47632.38  47995.96  45456.00  46131.20   \n",
       "6  1.581552e+12 2020-02-13  BTC/USDT  10325.33  10500.00  10080.00  10229.63   \n",
       "7  1.541030e+12 2018-11-01  BTC/USDT   6369.52   6442.65   6348.66   6410.00   \n",
       "8  1.595549e+12 2020-07-24  BTC/USDT   9603.27   9637.00   9463.44   9537.80   \n",
       "9  1.615766e+12 2021-03-15  BTC/USDT  58976.08  60633.43  54600.00  55605.20   \n",
       "\n",
       "      Volume BTC   Volume USDT  tradecount  \n",
       "0   64991.512440  7.086450e+08    884153.0  \n",
       "1   90748.218174  7.373295e+08    775418.0  \n",
       "2   25189.024728  1.618443e+08    153686.0  \n",
       "3   37237.980580  2.415537e+09   1327827.0  \n",
       "4   60783.892258  5.124372e+08    544806.0  \n",
       "5   43104.488700  2.015966e+09   1261780.0  \n",
       "6   79344.358759  8.155075e+08    932802.0  \n",
       "7    9099.035841  5.803169e+07     89601.0  \n",
       "8   43931.136205  4.192403e+08    677725.0  \n",
       "9  102771.427298  5.874241e+09   2683815.0  "
      ]
     },
     "execution_count": 67,
     "metadata": {},
     "output_type": "execute_result"
    }
   ],
   "source": [
    "data_inf"
   ]
  },
  {
   "cell_type": "code",
   "execution_count": 68,
   "metadata": {},
   "outputs": [],
   "source": [
    "data_inf_num = data_inf[num_columns]\n",
    "data_inf_cat = data_inf[cat_columns]"
   ]
  },
  {
   "cell_type": "code",
   "execution_count": 69,
   "metadata": {},
   "outputs": [],
   "source": [
    "data_inf_num_scaled = scaler.transform(data_inf_num)\n",
    "data_inf_cat_encoded = encoder.transform(data_inf_cat)"
   ]
  },
  {
   "cell_type": "code",
   "execution_count": 70,
   "metadata": {},
   "outputs": [
    {
     "data": {
      "text/plain": [
       "array([[0.6038531 , 0.1177583 , 0.1186954 , 0.11858577, 0.15989803,\n",
       "        0.05175098, 0.13796563, 0.        ],\n",
       "       [0.40698374, 0.06531537, 0.0837823 , 0.06623157, 0.2240665 ,\n",
       "        0.05388114, 0.1207571 , 0.        ],\n",
       "       [0.16616496, 0.04944934, 0.04940188, 0.04979663, 0.06073688,\n",
       "        0.01114473, 0.02236104, 0.        ],\n",
       "       [0.85731487, 0.9588986 , 0.94825541, 0.96633056, 0.09075481,\n",
       "        0.1785074 , 0.20818201, 0.        ],\n",
       "       [0.38892234, 0.08218787, 0.08273217, 0.07978945, 0.14941546,\n",
       "        0.03718029, 0.08426016, 0.        ],\n",
       "       [0.87898856, 0.69068312, 0.680333  , 0.67056494, 0.10537022,\n",
       "        0.14883465, 0.19772933, 0.        ],\n",
       "       [0.47381096, 0.11060745, 0.10967035, 0.10936538, 0.19565571,\n",
       "        0.05968675, 0.14566488, 0.        ],\n",
       "       [0.19145093, 0.0490998 , 0.04792028, 0.05017196, 0.0206514 ,\n",
       "        0.00343545, 0.01221887, 0.        ],\n",
       "       [0.57134256, 0.09938037, 0.09653608, 0.09958437, 0.10742967,\n",
       "        0.03025935, 0.10529608, 0.        ],\n",
       "       [0.71222155, 0.86706276, 0.87266658, 0.81562399, 0.25402029,\n",
       "        0.43535598, 0.4227823 , 0.        ]])"
      ]
     },
     "execution_count": 70,
     "metadata": {},
     "output_type": "execute_result"
    }
   ],
   "source": [
    "df_inf_final= np.concatenate([data_inf_num_scaled, data_inf_cat_encoded], axis=1)\n",
    "df_inf_final"
   ]
  },
  {
   "cell_type": "code",
   "execution_count": 71,
   "metadata": {},
   "outputs": [
    {
     "data": {
      "text/html": [
       "<div>\n",
       "<style scoped>\n",
       "    .dataframe tbody tr th:only-of-type {\n",
       "        vertical-align: middle;\n",
       "    }\n",
       "\n",
       "    .dataframe tbody tr th {\n",
       "        vertical-align: top;\n",
       "    }\n",
       "\n",
       "    .dataframe thead th {\n",
       "        text-align: right;\n",
       "    }\n",
       "</style>\n",
       "<table border=\"1\" class=\"dataframe\">\n",
       "  <thead>\n",
       "    <tr style=\"text-align: right;\">\n",
       "      <th></th>\n",
       "      <th>Closed_Price_Prediction</th>\n",
       "    </tr>\n",
       "  </thead>\n",
       "  <tbody>\n",
       "    <tr>\n",
       "      <th>0</th>\n",
       "      <td>10958.556103</td>\n",
       "    </tr>\n",
       "    <tr>\n",
       "      <th>1</th>\n",
       "      <td>8582.468592</td>\n",
       "    </tr>\n",
       "    <tr>\n",
       "      <th>2</th>\n",
       "      <td>6459.523842</td>\n",
       "    </tr>\n",
       "    <tr>\n",
       "      <th>3</th>\n",
       "      <td>64628.173082</td>\n",
       "    </tr>\n",
       "    <tr>\n",
       "      <th>4</th>\n",
       "      <td>8479.333584</td>\n",
       "    </tr>\n",
       "    <tr>\n",
       "      <th>5</th>\n",
       "      <td>46385.521547</td>\n",
       "    </tr>\n",
       "    <tr>\n",
       "      <th>6</th>\n",
       "      <td>10291.803606</td>\n",
       "    </tr>\n",
       "    <tr>\n",
       "      <th>7</th>\n",
       "      <td>6420.124855</td>\n",
       "    </tr>\n",
       "    <tr>\n",
       "      <th>8</th>\n",
       "      <td>9543.773421</td>\n",
       "    </tr>\n",
       "    <tr>\n",
       "      <th>9</th>\n",
       "      <td>57427.581377</td>\n",
       "    </tr>\n",
       "  </tbody>\n",
       "</table>\n",
       "</div>"
      ],
      "text/plain": [
       "   Closed_Price_Prediction\n",
       "0             10958.556103\n",
       "1              8582.468592\n",
       "2              6459.523842\n",
       "3             64628.173082\n",
       "4              8479.333584\n",
       "5             46385.521547\n",
       "6             10291.803606\n",
       "7              6420.124855\n",
       "8              9543.773421\n",
       "9             57427.581377"
      ]
     },
     "execution_count": 71,
     "metadata": {},
     "output_type": "execute_result"
    }
   ],
   "source": [
    "y_pred_inf= model_lin_reg.predict(df_inf_final)\n",
    "y_pred_inf = pd.DataFrame(y_pred_inf, columns=['Closed_Price_Prediction'])\n",
    "y_pred_inf"
   ]
  },
  {
   "cell_type": "code",
   "execution_count": 72,
   "metadata": {},
   "outputs": [],
   "source": [
    "data_inf['Close_Price_Prediction'] = y_pred_inf"
   ]
  },
  {
   "cell_type": "code",
   "execution_count": 73,
   "metadata": {},
   "outputs": [
    {
     "data": {
      "text/html": [
       "<div>\n",
       "<style scoped>\n",
       "    .dataframe tbody tr th:only-of-type {\n",
       "        vertical-align: middle;\n",
       "    }\n",
       "\n",
       "    .dataframe tbody tr th {\n",
       "        vertical-align: top;\n",
       "    }\n",
       "\n",
       "    .dataframe thead th {\n",
       "        text-align: right;\n",
       "    }\n",
       "</style>\n",
       "<table border=\"1\" class=\"dataframe\">\n",
       "  <thead>\n",
       "    <tr style=\"text-align: right;\">\n",
       "      <th></th>\n",
       "      <th>unix</th>\n",
       "      <th>date</th>\n",
       "      <th>symbol</th>\n",
       "      <th>open</th>\n",
       "      <th>high</th>\n",
       "      <th>low</th>\n",
       "      <th>close</th>\n",
       "      <th>Volume BTC</th>\n",
       "      <th>Volume USDT</th>\n",
       "      <th>tradecount</th>\n",
       "      <th>Close_Price_Prediction</th>\n",
       "    </tr>\n",
       "  </thead>\n",
       "  <tbody>\n",
       "    <tr>\n",
       "      <th>0</th>\n",
       "      <td>1.600214e+12</td>\n",
       "      <td>2020-09-16</td>\n",
       "      <td>BTC/USDT</td>\n",
       "      <td>10785.23</td>\n",
       "      <td>11093.00</td>\n",
       "      <td>10661.22</td>\n",
       "      <td>10954.01</td>\n",
       "      <td>64991.512440</td>\n",
       "      <td>7.086450e+08</td>\n",
       "      <td>884153.0</td>\n",
       "      <td>10958.556103</td>\n",
       "    </tr>\n",
       "    <tr>\n",
       "      <th>1</th>\n",
       "      <td>1.571962e+12</td>\n",
       "      <td>2019-10-25</td>\n",
       "      <td>BTC/USDT</td>\n",
       "      <td>7412.41</td>\n",
       "      <td>8799.00</td>\n",
       "      <td>7361.00</td>\n",
       "      <td>8655.02</td>\n",
       "      <td>90748.218174</td>\n",
       "      <td>7.373295e+08</td>\n",
       "      <td>775418.0</td>\n",
       "      <td>8582.468592</td>\n",
       "    </tr>\n",
       "    <tr>\n",
       "      <th>2</th>\n",
       "      <td>1.537402e+12</td>\n",
       "      <td>2018-09-20</td>\n",
       "      <td>BTC/USDT</td>\n",
       "      <td>6392.00</td>\n",
       "      <td>6540.00</td>\n",
       "      <td>6325.00</td>\n",
       "      <td>6492.00</td>\n",
       "      <td>25189.024728</td>\n",
       "      <td>1.618443e+08</td>\n",
       "      <td>153686.0</td>\n",
       "      <td>6459.523842</td>\n",
       "    </tr>\n",
       "    <tr>\n",
       "      <th>3</th>\n",
       "      <td>1.636589e+12</td>\n",
       "      <td>2021-11-11</td>\n",
       "      <td>BTC/USDT</td>\n",
       "      <td>64882.42</td>\n",
       "      <td>65600.07</td>\n",
       "      <td>64100.00</td>\n",
       "      <td>64774.26</td>\n",
       "      <td>37237.980580</td>\n",
       "      <td>2.415537e+09</td>\n",
       "      <td>1327827.0</td>\n",
       "      <td>64628.173082</td>\n",
       "    </tr>\n",
       "    <tr>\n",
       "      <th>4</th>\n",
       "      <td>1.569370e+12</td>\n",
       "      <td>2019-09-25</td>\n",
       "      <td>BTC/USDT</td>\n",
       "      <td>8497.55</td>\n",
       "      <td>8730.00</td>\n",
       "      <td>8215.64</td>\n",
       "      <td>8430.05</td>\n",
       "      <td>60783.892258</td>\n",
       "      <td>5.124372e+08</td>\n",
       "      <td>544806.0</td>\n",
       "      <td>8479.333584</td>\n",
       "    </tr>\n",
       "    <tr>\n",
       "      <th>5</th>\n",
       "      <td>1.639699e+12</td>\n",
       "      <td>2021-12-17</td>\n",
       "      <td>BTC/USDT</td>\n",
       "      <td>47632.38</td>\n",
       "      <td>47995.96</td>\n",
       "      <td>45456.00</td>\n",
       "      <td>46131.20</td>\n",
       "      <td>43104.488700</td>\n",
       "      <td>2.015966e+09</td>\n",
       "      <td>1261780.0</td>\n",
       "      <td>46385.521547</td>\n",
       "    </tr>\n",
       "    <tr>\n",
       "      <th>6</th>\n",
       "      <td>1.581552e+12</td>\n",
       "      <td>2020-02-13</td>\n",
       "      <td>BTC/USDT</td>\n",
       "      <td>10325.33</td>\n",
       "      <td>10500.00</td>\n",
       "      <td>10080.00</td>\n",
       "      <td>10229.63</td>\n",
       "      <td>79344.358759</td>\n",
       "      <td>8.155075e+08</td>\n",
       "      <td>932802.0</td>\n",
       "      <td>10291.803606</td>\n",
       "    </tr>\n",
       "    <tr>\n",
       "      <th>7</th>\n",
       "      <td>1.541030e+12</td>\n",
       "      <td>2018-11-01</td>\n",
       "      <td>BTC/USDT</td>\n",
       "      <td>6369.52</td>\n",
       "      <td>6442.65</td>\n",
       "      <td>6348.66</td>\n",
       "      <td>6410.00</td>\n",
       "      <td>9099.035841</td>\n",
       "      <td>5.803169e+07</td>\n",
       "      <td>89601.0</td>\n",
       "      <td>6420.124855</td>\n",
       "    </tr>\n",
       "    <tr>\n",
       "      <th>8</th>\n",
       "      <td>1.595549e+12</td>\n",
       "      <td>2020-07-24</td>\n",
       "      <td>BTC/USDT</td>\n",
       "      <td>9603.27</td>\n",
       "      <td>9637.00</td>\n",
       "      <td>9463.44</td>\n",
       "      <td>9537.80</td>\n",
       "      <td>43931.136205</td>\n",
       "      <td>4.192403e+08</td>\n",
       "      <td>677725.0</td>\n",
       "      <td>9543.773421</td>\n",
       "    </tr>\n",
       "    <tr>\n",
       "      <th>9</th>\n",
       "      <td>1.615766e+12</td>\n",
       "      <td>2021-03-15</td>\n",
       "      <td>BTC/USDT</td>\n",
       "      <td>58976.08</td>\n",
       "      <td>60633.43</td>\n",
       "      <td>54600.00</td>\n",
       "      <td>55605.20</td>\n",
       "      <td>102771.427298</td>\n",
       "      <td>5.874241e+09</td>\n",
       "      <td>2683815.0</td>\n",
       "      <td>57427.581377</td>\n",
       "    </tr>\n",
       "  </tbody>\n",
       "</table>\n",
       "</div>"
      ],
      "text/plain": [
       "           unix       date    symbol      open      high       low     close  \\\n",
       "0  1.600214e+12 2020-09-16  BTC/USDT  10785.23  11093.00  10661.22  10954.01   \n",
       "1  1.571962e+12 2019-10-25  BTC/USDT   7412.41   8799.00   7361.00   8655.02   \n",
       "2  1.537402e+12 2018-09-20  BTC/USDT   6392.00   6540.00   6325.00   6492.00   \n",
       "3  1.636589e+12 2021-11-11  BTC/USDT  64882.42  65600.07  64100.00  64774.26   \n",
       "4  1.569370e+12 2019-09-25  BTC/USDT   8497.55   8730.00   8215.64   8430.05   \n",
       "5  1.639699e+12 2021-12-17  BTC/USDT  47632.38  47995.96  45456.00  46131.20   \n",
       "6  1.581552e+12 2020-02-13  BTC/USDT  10325.33  10500.00  10080.00  10229.63   \n",
       "7  1.541030e+12 2018-11-01  BTC/USDT   6369.52   6442.65   6348.66   6410.00   \n",
       "8  1.595549e+12 2020-07-24  BTC/USDT   9603.27   9637.00   9463.44   9537.80   \n",
       "9  1.615766e+12 2021-03-15  BTC/USDT  58976.08  60633.43  54600.00  55605.20   \n",
       "\n",
       "      Volume BTC   Volume USDT  tradecount  Close_Price_Prediction  \n",
       "0   64991.512440  7.086450e+08    884153.0            10958.556103  \n",
       "1   90748.218174  7.373295e+08    775418.0             8582.468592  \n",
       "2   25189.024728  1.618443e+08    153686.0             6459.523842  \n",
       "3   37237.980580  2.415537e+09   1327827.0            64628.173082  \n",
       "4   60783.892258  5.124372e+08    544806.0             8479.333584  \n",
       "5   43104.488700  2.015966e+09   1261780.0            46385.521547  \n",
       "6   79344.358759  8.155075e+08    932802.0            10291.803606  \n",
       "7    9099.035841  5.803169e+07     89601.0             6420.124855  \n",
       "8   43931.136205  4.192403e+08    677725.0             9543.773421  \n",
       "9  102771.427298  5.874241e+09   2683815.0            57427.581377  "
      ]
     },
     "execution_count": 73,
     "metadata": {},
     "output_type": "execute_result"
    }
   ],
   "source": [
    "data_inf"
   ]
  },
  {
   "cell_type": "code",
   "execution_count": 79,
   "metadata": {},
   "outputs": [
    {
     "name": "stderr",
     "output_type": "stream",
     "text": [
      "No artists with labels found to put in legend.  Note that artists whose label start with an underscore are ignored when legend() is called with no argument.\n"
     ]
    },
    {
     "data": {
      "image/png": "[encoded data removed]",
      "text/plain": [
       "<Figure size 864x576 with 1 Axes>"
      ]
     },
     "metadata": {
      "needs_background": "light"
     },
     "output_type": "display_data"
    }
   ],
   "source": [
    "fig = plt.figure(figsize=(12, 8))\n",
    "plt.plot(data_inf.index, data_inf.close, data_inf.Close_Price_Prediction, \n",
    "         linewidth=2)\n",
    "\n",
    "plt.title('prediction vs real')\n",
    "plt.ylabel('real')\n",
    "plt.ylabel('predicted')\n",
    "\n",
    "\n",
    "plt.legend()\n",
    "\n",
    "\n",
    "plt.tight_layout()\n",
    "\n",
    "\n",
    "plt.show() "
   ]
  }
 ],
 "metadata": {
  "interpreter": {
   "hash": "e31aef8222fb7c235d2ed8e74ce17e973738f89b37261e7466b7a63a6dfb1214"
  },
  "kernelspec": {
   "display_name": "Python 3.9.13 64-bit",
   "language": "python",
   "name": "python3"
  },
  "language_info": {
   "codemirror_mode": {
    "name": "ipython",
    "version": 3
   },
   "file_extension": ".py",
   "mimetype": "text/x-python",
   "name": "python",
   "nbconvert_exporter": "python",
   "pygments_lexer": "ipython3",
   "version": "3.9.13"
  },
  "orig_nbformat": 4
 },
 "nbformat": 4,
 "nbformat_minor": 2
}
